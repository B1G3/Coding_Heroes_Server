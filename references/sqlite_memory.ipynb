{
 "cells": [
  {
   "cell_type": "code",
   "execution_count": 1,
   "id": "6af24e66",
   "metadata": {},
   "outputs": [
    {
     "data": {
      "text/plain": [
       "True"
      ]
     },
     "execution_count": 1,
     "metadata": {},
     "output_type": "execute_result"
    }
   ],
   "source": [
    "from dotenv import load_dotenv\n",
    "load_dotenv()"
   ]
  },
  {
   "cell_type": "markdown",
   "id": "11ea0876",
   "metadata": {},
   "source": [
    "## SQLChatMessageHistory란?\n",
    "LangChain에서 제공하는 대화 히스토리 저장소 클래스 중 하나.  \n",
    "대화 기록을 SQLite 같은 RDBMS에 저장하는 역할  \n",
    "- 사용자별 대화 히스토리를 DB에 영구 저장\n",
    "- 히스토리를 LLM 체인에 자동으로 불러오거나 갱신할 수 있게 한다."
   ]
  },
  {
   "cell_type": "code",
   "execution_count": 3,
   "id": "2b105a18",
   "metadata": {},
   "outputs": [],
   "source": [
    "from langchain_community.chat_message_histories import SQLChatMessageHistory\n",
    "\n",
    "chat_message_history = SQLChatMessageHistory(\n",
    "    session_id=\"sql_history_test\",\n",
    "    connection=\"sqlite:///sqlite_basic.db\"\n",
    ")"
   ]
  },
  {
   "cell_type": "code",
   "execution_count": 4,
   "id": "d92b486b",
   "metadata": {},
   "outputs": [
    {
     "data": {
      "text/plain": [
       "[HumanMessage(content='hello', additional_kwargs={}, response_metadata={})]"
      ]
     },
     "execution_count": 4,
     "metadata": {},
     "output_type": "execute_result"
    }
   ],
   "source": [
    "from langchain_core.messages import HumanMessage\n",
    "\n",
    "chat_message_history.add_message(HumanMessage(\"hello\"))\n",
    "chat_message_history.messages"
   ]
  },
  {
   "cell_type": "code",
   "execution_count": 5,
   "id": "9b216079",
   "metadata": {},
   "outputs": [],
   "source": [
    "chat_message_history.add_user_message(\n",
    "    \"안녕 지피티야 나는 은빈이야. 오늘 날씨가 어떄?\"\n",
    ")"
   ]
  },
  {
   "cell_type": "code",
   "execution_count": 6,
   "id": "ac092284",
   "metadata": {},
   "outputs": [
    {
     "data": {
      "text/plain": [
       "[HumanMessage(content='hello', additional_kwargs={}, response_metadata={}),\n",
       " HumanMessage(content='안녕 지피티야 나는 은빈이야. 오늘 날씨가 어떄?', additional_kwargs={}, response_metadata={})]"
      ]
     },
     "execution_count": 6,
     "metadata": {},
     "output_type": "execute_result"
    }
   ],
   "source": [
    "chat_message_history.messages"
   ]
  },
  {
   "cell_type": "code",
   "execution_count": 7,
   "id": "6139751d",
   "metadata": {},
   "outputs": [
    {
     "data": {
      "text/plain": [
       "[HumanMessage(content='hello', additional_kwargs={}, response_metadata={}),\n",
       " HumanMessage(content='안녕 지피티야 나는 은빈이야. 오늘 날씨가 어떄?', additional_kwargs={}, response_metadata={}),\n",
       " AIMessage(content='비가 와', additional_kwargs={}, response_metadata={})]"
      ]
     },
     "execution_count": 7,
     "metadata": {},
     "output_type": "execute_result"
    }
   ],
   "source": [
    "chat_message_history.add_ai_message(\n",
    "    \"비가 와\"\n",
    ")\n",
    "chat_message_history.messages"
   ]
  },
  {
   "cell_type": "markdown",
   "id": "a5ade96e",
   "metadata": {},
   "source": [
    "# LLM이랑 연동"
   ]
  },
  {
   "cell_type": "code",
   "execution_count": 8,
   "id": "e095e210",
   "metadata": {},
   "outputs": [],
   "source": [
    "from langchain_core.prompts import ChatPromptTemplate, MessagesPlaceholder\n",
    "from langchain_core.runnables.history import RunnableWithMessageHistory\n",
    "from langchain_openai import ChatOpenAI\n",
    "from langchain_core.output_parsers import StrOutputParser"
   ]
  },
  {
   "cell_type": "code",
   "execution_count": null,
   "id": "f7ee28a1",
   "metadata": {},
   "outputs": [],
   "source": [
    "from langchain_openai import ChatOpenAI\n",
    "model = ChatOpenAI(\n",
    "    model=\"gpt-4o\",\n",
    "    temperature=0\n",
    ")"
   ]
  },
  {
   "cell_type": "code",
   "execution_count": 11,
   "id": "48857b95",
   "metadata": {},
   "outputs": [],
   "source": [
    "# 프롬프트 템플릿 설정\n",
    "prompt = ChatPromptTemplate.from_messages(\n",
    "    [\n",
    "        (\"system\", \"당신은 Question-Answering 챗봇입니다. 주어진 질문에 대한 답변을 제공해주세요.\"),\n",
    "        # 여기서부터 대화 내용 저장\n",
    "        MessagesPlaceholder(variable_name=\"chat_history\"), # <- 여기에 지금까지의 대화내용(chat_history)이 자동으로 삽입됨. \n",
    "                                                        # variable_name: LangChain에서 RunnableWithMessageHistory 쓸 때 자동으로 매핑되는 변수\n",
    "        (\"human\", \"#Question:\\n{question}\")\n",
    "    ]\n",
    ")"
   ]
  },
  {
   "cell_type": "markdown",
   "id": "40486423",
   "metadata": {},
   "source": [
    "- LLM이나 chain과 연결하면 이전 대화 + 현재 질문을 바탕으로 문맥있는 응답을 생성할 수 있게 됨.\n",
    "- 따라서 프롬프트 토큰 수가 계속 증가함"
   ]
  },
  {
   "cell_type": "code",
   "execution_count": 12,
   "id": "6c6e104e",
   "metadata": {},
   "outputs": [],
   "source": [
    "chain = prompt | model | StrOutputParser()"
   ]
  },
  {
   "cell_type": "markdown",
   "id": "d83b4618",
   "metadata": {},
   "source": [
    "- 유저별, 대화별로 내용 저장\n",
    "- user_id: 사용자 ID\n",
    "- conversation_id: 대화 ID"
   ]
  },
  {
   "cell_type": "code",
   "execution_count": 13,
   "id": "939b66cb",
   "metadata": {},
   "outputs": [],
   "source": [
    "from langchain_core.runnables.utils import ConfigurableFieldSpec\n",
    "\n",
    "config_fields = [\n",
    "    ConfigurableFieldSpec(\n",
    "        id=\"user_id\",                        # id 필드의 내부 식별자\n",
    "        annotation=str,                 # 기대하는 데이터 타입\n",
    "        name=\"User ID\",                # 나중에 보기 위한 기록을 위한 값\n",
    "        description=\"유저별로 식별\",       # 이 항목(필드)에 대한 설명\n",
    "        default=\"\",                     # 기본값은 빈 문자열\n",
    "        is_shared=True,                 # 다른 곳에서도 실행할 때 공유가능\n",
    "    ),\n",
    "    ConfigurableFieldSpec(\n",
    "        id=\"conversation_id\",\n",
    "        annotation=str,\n",
    "        name=\"Conversation ID\",\n",
    "        description=\"대화별 식별\",\n",
    "        default=\"\",\n",
    "        is_shared=True\n",
    "    )\n",
    "]"
   ]
  },
  {
   "cell_type": "code",
   "execution_count": 14,
   "id": "887af134",
   "metadata": {},
   "outputs": [],
   "source": [
    "from langchain_community.chat_message_histories import SQLChatMessageHistory\n",
    "\n",
    "# 대화 내용을 sqlite에서 조회해서 가져오기, sqlite에 저장\n",
    "def get_chat_history(user_id, conversation_id):\n",
    "    return SQLChatMessageHistory(\n",
    "        table_name=user_id,\n",
    "        session_id=conversation_id,\n",
    "        connection=\"sqlite:///sqlite_basic2.db\"\n",
    "    )"
   ]
  },
  {
   "cell_type": "code",
   "execution_count": 16,
   "id": "0392271a",
   "metadata": {},
   "outputs": [],
   "source": [
    "chain_with_history = RunnableWithMessageHistory(\n",
    "    chain,\n",
    "    get_chat_history,\n",
    "    input_messages_key=\"question\",\n",
    "    history_messages_key=\"chat_history\",\n",
    "    history_factory_config=config_fields\n",
    ")"
   ]
  },
  {
   "cell_type": "code",
   "execution_count": 17,
   "id": "6233f28e",
   "metadata": {},
   "outputs": [],
   "source": [
    "config = {\n",
    "    \"configurable\": {\n",
    "        \"user_id\": \"binmuxiz\",\n",
    "        \"conversation_id\": \"conversation1\"\n",
    "    }\n",
    "}\n",
    "\n",
    "result = chain_with_history.invoke({\n",
    "    'question': \"안녕 나는 은빈이야. 만나서 반가워\"\n",
    "}, config)"
   ]
  },
  {
   "cell_type": "code",
   "execution_count": 18,
   "id": "9ff13b59",
   "metadata": {},
   "outputs": [
    {
     "data": {
      "text/plain": [
       "'안녕하세요, 은빈님! 만나서 반가워요. 오늘 어떻게 도와드릴까요?'"
      ]
     },
     "execution_count": 18,
     "metadata": {},
     "output_type": "execute_result"
    }
   ],
   "source": [
    "result"
   ]
  },
  {
   "cell_type": "code",
   "execution_count": 19,
   "id": "0736663c",
   "metadata": {},
   "outputs": [
    {
     "data": {
      "text/plain": [
       "'당신의 이름은 은빈이라고 하셨죠! 맞나요?'"
      ]
     },
     "execution_count": 19,
     "metadata": {},
     "output_type": "execute_result"
    }
   ],
   "source": [
    "config = {\n",
    "    \"configurable\": {\n",
    "        \"user_id\": \"binmuxiz\",\n",
    "        \"conversation_id\": \"conversation1\"\n",
    "    }\n",
    "}\n",
    "\n",
    "result = chain_with_history.invoke({\n",
    "    'question': \"내 이름이 뭐게\"\n",
    "}, config)\n",
    "\n",
    "result"
   ]
  },
  {
   "cell_type": "code",
   "execution_count": 20,
   "id": "00cf44eb",
   "metadata": {},
   "outputs": [
    {
     "data": {
      "text/plain": [
       "'안녕하세요, 센세! 만나서 반가워요. 어떻게 도와드릴까요?'"
      ]
     },
     "execution_count": 20,
     "metadata": {},
     "output_type": "execute_result"
    }
   ],
   "source": [
    "config = {\n",
    "    \"configurable\": {\n",
    "        \"user_id\": \"sense\",\n",
    "        \"conversation_id\": \"conversation1\"\n",
    "    }\n",
    "}\n",
    "\n",
    "result = chain_with_history.invoke({\n",
    "    'question': \"안녕 내 이름은 센세야\"\n",
    "}, config)\n",
    "\n",
    "result"
   ]
  },
  {
   "cell_type": "code",
   "execution_count": 21,
   "id": "d58e189b",
   "metadata": {},
   "outputs": [
    {
     "data": {
      "text/plain": [
       "'안녕하세요, 센세! 만나서 반가워요. 어떻게 도와드릴까요?'"
      ]
     },
     "execution_count": 21,
     "metadata": {},
     "output_type": "execute_result"
    }
   ],
   "source": [
    "config = {\n",
    "    \"configurable\": {\n",
    "        \"user_id\": \"sense\",\n",
    "        \"conversation_id\": \"conversation2\"\n",
    "    }\n",
    "}\n",
    "\n",
    "result = chain_with_history.invoke({\n",
    "    'question': \"안녕 내 이름은 센세야\"\n",
    "}, config)\n",
    "\n",
    "result"
   ]
  },
  {
   "cell_type": "code",
   "execution_count": 22,
   "id": "6346a4af",
   "metadata": {},
   "outputs": [
    {
     "name": "stdout",
     "output_type": "stream",
     "text": [
      "<class 'langchain_community.chat_message_histories.sql.SQLChatMessageHistory'>\n",
      "content='안녕 나는 은빈이야. 만나서 반가워' additional_kwargs={} response_metadata={}\n",
      "content='안녕하세요, 은빈님! 만나서 반가워요. 오늘 어떻게 도와드릴까요?' additional_kwargs={} response_metadata={}\n",
      "content='내 이름이 뭐게' additional_kwargs={} response_metadata={}\n",
      "content='당신의 이름은 은빈이라고 하셨죠! 맞나요?' additional_kwargs={} response_metadata={}\n"
     ]
    }
   ],
   "source": [
    "user1_conv1_history = get_chat_history(user_id=\"binmuxiz\", conversation_id=\"conversation1\")\n",
    "print(type(user1_conv1_history))\n",
    "for msg in user1_conv1_history.messages:\n",
    "    print(msg)"
   ]
  }
 ],
 "metadata": {
  "kernelspec": {
   "display_name": "llm",
   "language": "python",
   "name": "python3"
  },
  "language_info": {
   "codemirror_mode": {
    "name": "ipython",
    "version": 3
   },
   "file_extension": ".py",
   "mimetype": "text/x-python",
   "name": "python",
   "nbconvert_exporter": "python",
   "pygments_lexer": "ipython3",
   "version": "3.12.9"
  }
 },
 "nbformat": 4,
 "nbformat_minor": 5
}
